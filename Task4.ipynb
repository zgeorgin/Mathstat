{
 "cells": [
  {
   "cell_type": "code",
   "execution_count": 1,
   "metadata": {},
   "outputs": [],
   "source": [
    "import math\n",
    "import random as rd\n",
    "import numpy as np\n",
    "from matplotlib import pyplot as plt\n",
    "%matplotlib inline"
   ]
  },
  {
   "cell_type": "code",
   "execution_count": 2,
   "metadata": {
    "scrolled": true
   },
   "outputs": [
    {
     "name": "stdout",
     "output_type": "stream",
     "text": [
      "[10.801293929158057, 10.986613442791784, 11.633722630062257, 17.307161606792192, 18.035781853753193, 10.284566383606007, 16.827332054653546, 11.227473935899777, 12.092469128482673, 18.081808097754816, 10.750512137804337, 11.720011711099547, 17.925774802197516, 12.983448829363983, 13.336117648975351, 10.027877749658, 16.865804443009612, 13.550353271767449, 15.937601228576135, 10.160682276549926, 12.857444545635037, 15.040890177183737, 12.980381947771395, 14.138085197537599, 10.34977569140599, 13.078550741147998, 19.11839551812583, 18.261478546153455, 13.478435435920321, 10.3443785767843, 12.718655995435174, 18.064593995793672, 19.841195705149303, 18.945054374405363, 16.135757897975566, 16.44095087069951, 15.624910029144061, 18.20380235133078, 15.683712409992394, 15.306649748808093, 10.386192370965743, 14.233636581893515, 17.296853732383585, 13.05804767798843, 12.148351424139163, 17.408319455330705, 16.468062126082884, 19.87909915587546, 10.824728004238978, 15.357255197367657, 16.56302965157955, 12.442742748770192, 11.426045942277783, 13.265012685098617, 16.437440018809934, 16.30316093036806, 10.846913408002699, 14.671889162683753, 11.54695796243434, 16.825495384704897, 10.89624397384092, 12.602700339919366, 10.722262241571062, 19.27193625437053, 17.16251462475855, 13.584747057734832, 14.17459817449151, 10.133913968319822, 17.455206800578562, 10.900282658900169, 17.62469031174046, 19.775208426457027, 12.856343727990629, 12.160765114376126, 16.09245686010588, 11.955063659262127, 18.10420445653928, 12.931382104735793, 14.984464080054453, 16.729098649530457, 11.403542640330974, 17.1431744559191, 15.151312489085223, 18.258084278796442, 16.198537573801868, 13.556196799872282, 18.363073972738228, 14.880138334991388, 17.2693449109856, 10.625073335003082, 12.174007616101703, 18.99418150507759, 15.623299174824705, 15.60452699372265, 16.524178727144353, 12.596474690595572, 11.513264492507286, 12.785955203242448, 13.336394842142475, 14.29600447845858]\n"
     ]
    }
   ],
   "source": [
    "N = 100\n",
    "theta = 10\n",
    "xn = [rd.uniform(theta, 2 * theta) for i in range(N)]\n",
    "print(xn)"
   ]
  },
  {
   "cell_type": "code",
   "execution_count": 3,
   "metadata": {},
   "outputs": [
    {
     "name": "stdout",
     "output_type": "stream",
     "text": [
      "Точный доверительный интервал:\n",
      "9.942066372599552 < theta < 10.313054295594284\n"
     ]
    }
   ],
   "source": [
    "t1 = (0.025 + (0.5)**N)**(1/N)\n",
    "t2 = (0.975)**(1/N)\n",
    "x_max = max(xn)\n",
    "\n",
    "border1_precise = x_max/2/t2\n",
    "border2_precise = x_max/2/t1\n",
    "\n",
    "print(f'Точный доверительный интервал:\\n{border1_precise} < theta < {border2_precise}')"
   ]
  },
  {
   "cell_type": "code",
   "execution_count": 4,
   "metadata": {},
   "outputs": [],
   "source": [
    "med = sum(xn)/N\n",
    "sigma = sum([(elem - med) ** 2 / 100 for elem in xn]) ** 0.5  #s"
   ]
  },
  {
   "cell_type": "code",
   "execution_count": 5,
   "metadata": {},
   "outputs": [
    {
     "name": "stdout",
     "output_type": "stream",
     "text": [
      "Асимптотический доверительный интервал:\n",
      " 9.303607640465755 < theta < 10.042440233400521\n"
     ]
    }
   ],
   "source": [
    "t1, t2 = -1.96, 1.96\n",
    "theta1 = 2 / 3 * med\n",
    "\n",
    "border1_asympt = theta1 + t1 * 2 * sigma / 3 / (N)**0.5\n",
    "border2_asympt = theta1 + t2 * 2 * sigma / 3 / (N)**0.5\n",
    "\n",
    "print(f'Асимптотический доверительный интервал:\\n {border1_asympt} < theta < {border2_asympt}')"
   ]
  },
  {
   "cell_type": "code",
   "execution_count": 6,
   "metadata": {},
   "outputs": [
    {
     "name": "stdout",
     "output_type": "stream",
     "text": [
      "Бутстраповский доверительный интервал:\n",
      "8.963021606972042 < theta < 9.718713399092849\n"
     ]
    }
   ],
   "source": [
    "deltas = []\n",
    "for i in range(1000):\n",
    "    xn_ = [rd.uniform(theta, 2 * theta) for j in range(N)]\n",
    "    med_ = sum(xn_)/N\n",
    "    theta_ = 2 / 3 * med_\n",
    "    deltas.append(theta_ - theta1)\n",
    "deltas.sort()\n",
    "\n",
    "border1_boot = theta1 - deltas[974]\n",
    "border2_boot = theta1 - deltas[24]\n",
    "\n",
    "print(f'Бутстраповский доверительный интервал:\\n{border1_boot} < theta < {border2_boot}')"
   ]
  },
  {
   "cell_type": "code",
   "execution_count": 7,
   "metadata": {},
   "outputs": [
    {
     "data": {
      "text/plain": [
       "<matplotlib.legend.Legend at 0x1d9f2c4c2b0>"
      ]
     },
     "execution_count": 7,
     "metadata": {},
     "output_type": "execute_result"
    },
    {
     "data": {
      "image/png": "[encoded data removed]",
      "text/plain": [
       "<Figure size 432x288 with 1 Axes>"
      ]
     },
     "metadata": {
      "needs_background": "light"
     },
     "output_type": "display_data"
    }
   ],
   "source": [
    "asympt = np.linspace(border1_asympt, border2_asympt, 200)\n",
    "plt.plot(asympt, 2*np.ones_like(asympt),color='black', label='Асимптотический')\n",
    "\n",
    "boot = np.linspace(border1_boot, border2_boot, 200)\n",
    "plt.plot(boot, 3*np.ones_like(boot), label='Bootstrap')\n",
    "\n",
    "precise = np.linspace(border1_precise, border2_precise, 200)\n",
    "plt.plot(precise, 4*np.ones_like(precise), label='Точный')\n",
    "\n",
    "plt.plot([theta, theta],[1, 5], label=\"theta\")\n",
    "plt.xlim(9, 11)\n",
    "plt.ylim(1, 5)\n",
    "plt.title(\"сравнение интервалов\")\n",
    "plt.legend()"
   ]
  },
  {
   "cell_type": "code",
   "execution_count": null,
   "metadata": {},
   "outputs": [],
   "source": []
  }
 ],
 "metadata": {
  "kernelspec": {
   "display_name": "Python 3",
   "language": "python",
   "name": "python3"
  },
  "language_info": {
   "codemirror_mode": {
    "name": "ipython",
    "version": 3
   },
   "file_extension": ".py",
   "mimetype": "text/x-python",
   "name": "python",
   "nbconvert_exporter": "python",
   "pygments_lexer": "ipython3",
   "version": "3.8.8"
  }
 },
 "nbformat": 4,
 "nbformat_minor": 4
}
