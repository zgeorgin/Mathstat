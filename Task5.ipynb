{
 "cells": [
  {
   "cell_type": "code",
   "execution_count": 1,
   "metadata": {},
   "outputs": [],
   "source": [
    "import math\n",
    "import random as rd\n",
    "import numpy as np\n",
    "from scipy.integrate import quad\n",
    "from matplotlib import pyplot as plt\n",
    "%matplotlib inline"
   ]
  },
  {
   "cell_type": "code",
   "execution_count": 2,
   "metadata": {},
   "outputs": [
    {
     "name": "stdout",
     "output_type": "stream",
     "text": [
      "[1.0418128933742603, 1.0862213917007535, 1.226918802090227, 1.0071894065866707, 1.341405998019209, 1.0056604789377763, 1.1385044464660605, 1.3016909229242761, 1.146292058893411, 1.321842929407404, 1.0020637830966865, 1.1347467888196965, 1.0527779605406904, 1.0173458073564385, 1.2863428749380894, 1.0757589164769048, 1.0772144200757057, 1.0079678715771312, 1.0619850836274076, 1.1712306414426694, 1.0195637941732016, 1.0232149521671874, 1.0541880957522303, 1.1942081500148443, 1.2986795437423753, 1.0324046840531973, 1.0172876394472619, 1.0178267823259357, 1.0349580001454741, 1.0081615952040486, 1.02886045775178, 1.0650871350352842, 1.005457625058032, 1.0003466520412483, 1.0624889870978849, 1.0829684886163176, 1.2819595037620848, 1.383940943312911, 1.0350506079248496, 1.0116489870929415, 1.002110921212896, 1.2722359716527967, 1.0401697116186606, 1.1355780395709538, 1.24532140207378, 1.049678067163273, 1.235429813565974, 1.0363486095503538, 1.0328518754419933, 1.260766412873911, 1.1014889887733748, 1.0553133044581988, 1.0639472448724174, 1.1440325035520311, 1.0095344835551292, 1.197259227657965, 1.624873756929774, 1.0961269053663256, 1.0242943435474727, 1.1785150547087793, 1.1115254091130726, 1.2795585286110684, 1.0241777727593204, 1.047754410901632, 1.0039847354269298, 1.0070975462739598, 1.1331654374841018, 1.1186273389057069, 1.0325152498961248, 1.3091756148867237, 1.004028564705678, 1.000902922483587, 1.0214232574935755, 1.006838144852198, 1.0265177349728416, 1.0864554522900107, 1.035969498506744, 1.023295906746577, 1.068349680275367, 1.0893408309428547, 1.0144378709153359, 1.1594436267119121, 1.1211746429221778, 1.1008809633223846, 1.2337709934453733, 1.0348326465066904, 1.0884561715431338, 1.0465739421893978, 1.2983800693224075, 1.209635994031214, 1.0050071981807973, 1.0409536610872483, 1.0503124682851277, 1.073063417723115, 1.0847904936979262, 1.3245886382578547, 1.218123747684043, 1.0997210358810627, 1.1425185591005176, 1.158825733743252]\n"
     ]
    }
   ],
   "source": [
    "N = 100\n",
    "theta = 10\n",
    "xn = [rd.paretovariate(theta) for i in range(N)]\n",
    "print(xn)"
   ]
  },
  {
   "cell_type": "code",
   "execution_count": 3,
   "metadata": {},
   "outputs": [],
   "source": [
    "med = (xn[49] + xn[50])/2"
   ]
  },
  {
   "cell_type": "code",
   "execution_count": 19,
   "metadata": {},
   "outputs": [
    {
     "name": "stdout",
     "output_type": "stream",
     "text": [
      "ОМП: 11.12132320335672\n",
      "\n",
      "Асимптотический доверительный интервал:\n",
      "9.137543855498803 < theta < 13.105102551214637\n"
     ]
    }
   ],
   "source": [
    "t1, t2 = -1.96, 1.96\n",
    "theta1 = 1 + N/sum([math.log(xn[i]) for i in range(N)])\n",
    "border1_asympt = theta1 - t2 * (theta1 - 1)/ (N)**0.5\n",
    "border2_asympt = theta1 - t1 * (theta1 - 1)/ (N)**0.5\n",
    "print(f'ОМП: {theta1}\\n')\n",
    "print(f'Асимптотический доверительный интервал:\\n\\\n",
    "{border1_asympt} < theta < {border2_asympt}')"
   ]
  },
  {
   "cell_type": "code",
   "execution_count": 20,
   "metadata": {},
   "outputs": [
    {
     "name": "stdout",
     "output_type": "stream",
     "text": [
      "Bootstrap доверительный интервал медианы:\n",
      "1.0463994507562995 < med < 1.3525270373626181\n",
      "\n",
      "Непараметрический bootstrap доверительный интервал:\n",
      "8.932517390380884 < theta < 12.676958372725641\n"
     ]
    }
   ],
   "source": [
    "deltas = []\n",
    "medas = []\n",
    "for i in range(1000):\n",
    "    xn_sub = np.random.choice(xn, N) \n",
    "    theta_ = 1 + N/sum([math.log(xn_sub[i]) for i in range(N)]) #омп\n",
    "    deltas.append(theta_ - theta1)\n",
    "    med_ = (xn_sub[49] + xn_sub[50])/2\n",
    "    medas.append(med_ - med)\n",
    "deltas.sort()\n",
    "medas.sort()\n",
    "print(f'Bootstrap доверительный интервал медианы:\\n{med - medas[974]} < med < {med - medas[24]}\\n')\n",
    "border1_nonparam = theta1 - deltas[974]\n",
    "border2_nonparam = theta1 - deltas[24]\n",
    "print(f'Непараметрический bootstrap доверительный интервал:\\n{border1_nonparam} < theta < {border2_nonparam}')"
   ]
  },
  {
   "cell_type": "code",
   "execution_count": 21,
   "metadata": {},
   "outputs": [
    {
     "name": "stdout",
     "output_type": "stream",
     "text": [
      "Параметрический bootstrap доверительный интервал:\n",
      "9.468516530879361 < theta < 13.386889819357139\n",
      "\n"
     ]
    }
   ],
   "source": [
    "thetas = []\n",
    "N_boot2=50000\n",
    "for i in range(N_boot2):\n",
    "    xn_sub = np.random.choice(xn, N) \n",
    "    theta_ast = 1 + N/sum([math.log(xn_sub[i]) for i in range(N)]) \n",
    "    thetas.append(theta_ast)\n",
    "\n",
    "thetas.sort()\n",
    "k1 = round((1-0.95)/2*N_boot2)\n",
    "k2 = round((1+0.95)/2*N_boot2)\n",
    "\n",
    "border1_param = thetas[k1-1]\n",
    "border2_param = thetas[k2-1]\n",
    "print(f'Параметрический bootstrap доверительный интервал:\\n{border1_param} < theta < {border2_param}\\n')"
   ]
  },
  {
   "cell_type": "code",
   "execution_count": 7,
   "metadata": {},
   "outputs": [],
   "source": [
    "mult = 1\n",
    "for i in range(N):\n",
    "    mult *= xn[i]\n",
    "\n",
    "def func(th, N, mult):\n",
    "    return ((1-th)**N)*(math.e*mult)**(-th)\n",
    "\n",
    "def func_th(th): #для scipy.integrate\n",
    "    return ((1-th)**N)*(math.e*mult)**(-th)"
   ]
  },
  {
   "cell_type": "code",
   "execution_count": 18,
   "metadata": {},
   "outputs": [
    {
     "name": "stdout",
     "output_type": "stream",
     "text": [
      "Байесовский доверительный интервал:\n",
      "8.560999999999167 < theta < 12.177999999998768\n"
     ]
    }
   ],
   "source": [
    "def find_lim(mlt, prob, c):\n",
    "    integral = 0\n",
    "    left = 1\n",
    "    right = 10e2\n",
    "    step = 10e-4\n",
    "    grd = np.arange(left, right, step)\n",
    "    \n",
    "    for i in range(len(grd)-1):\n",
    "        integral += c * step * 0.5 * (func(grd[i], N, mlt)+func(grd[i+1], N, mlt))\n",
    "        if integral>=prob:\n",
    "            return grd[i]\n",
    "\n",
    "    \n",
    "integ, err = quad(func_th, 1, 1000)   # функция быстро убывает, так что можно интегрировать не до бесконечности\n",
    "\n",
    "c = 1/integ\n",
    "\n",
    "border1_bayes = find_lim(mult, 0.025, c)\n",
    "border2_bayes = find_lim(mult, 0.975, c)\n",
    "\n",
    "print(f'Байесовский доверительный интервал:\\n{border1_bayes} < theta < {border2_bayes}')"
   ]
  },
  {
   "cell_type": "code",
   "execution_count": 28,
   "metadata": {},
   "outputs": [
    {
     "data": {
      "text/plain": [
       "<matplotlib.legend.Legend at 0x271246bfd90>"
      ]
     },
     "execution_count": 28,
     "metadata": {},
     "output_type": "execute_result"
    },
    {
     "data": {
      "image/png": "[encoded data removed]",
      "text/plain": [
       "<Figure size 432x288 with 1 Axes>"
      ]
     },
     "metadata": {
      "needs_background": "light"
     },
     "output_type": "display_data"
    }
   ],
   "source": [
    "asympt = np.linspace(border1_asympt, border2_asympt, 200)\n",
    "plt.plot(asympt, 2*np.ones_like(asympt),color='black', label='Асимптотический')\n",
    "\n",
    "boot = np.linspace(border1_nonparam, border2_nonparam, 200)\n",
    "plt.plot(boot, 3*np.ones_like(boot), label='Непарам. bootstrap')\n",
    "\n",
    "precise = np.linspace(border1_param, border2_param, 200)\n",
    "plt.plot(precise, 4*np.ones_like(precise), label='Парам. bootstrap')\n",
    "\n",
    "precise = np.linspace(border1_bayes, border2_bayes, 200)\n",
    "plt.plot(precise, 5*np.ones_like(precise), label='Байес')\n",
    "\n",
    "plt.plot([theta, theta],[1, 7], label=\"theta\")\n",
    "plt.xlim(5, 15)\n",
    "plt.ylim(1, 6)\n",
    "plt.title(\"сравнение интервалов\")\n",
    "plt.legend()"
   ]
  }
 ],
 "metadata": {
  "kernelspec": {
   "display_name": "Python 3",
   "language": "python",
   "name": "python3"
  },
  "language_info": {
   "codemirror_mode": {
    "name": "ipython",
    "version": 3
   },
   "file_extension": ".py",
   "mimetype": "text/x-python",
   "name": "python",
   "nbconvert_exporter": "python",
   "pygments_lexer": "ipython3",
   "version": "3.8.8"
  }
 },
 "nbformat": 4,
 "nbformat_minor": 4
}
